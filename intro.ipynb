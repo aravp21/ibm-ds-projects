{
  "metadata": {
    "kernelspec": {
      "name": "python",
      "display_name": "Pyolite",
      "language": "python"
    },
    "language_info": {
      "codemirror_mode": {
        "name": "python",
        "version": 3
      },
      "file_extension": ".py",
      "mimetype": "text/x-python",
      "name": "python",
      "nbconvert_exporter": "python",
      "pygments_lexer": "ipython3",
      "version": "3.8"
    }
  },
  "nbformat_minor": 5,
  "nbformat": 4,
  "cells": [
    {
      "cell_type": "markdown",
      "source": "# Introductory Jupyter Notebook",
      "metadata": {},
      "id": "5d94970b-4e4b-47db-aad0-6247d052781a"
    },
    {
      "cell_type": "markdown",
      "source": "This notebooks serves as an introduction to Jupyter as a popular tool for data science work.",
      "metadata": {},
      "id": "1025f056-0df5-4ae7-ab04-cbfc894e1e2d"
    },
    {
      "cell_type": "markdown",
      "source": "## Data Science Languages\n\n- Python\n- R\n- SQL\n- Julia...",
      "metadata": {},
      "id": "3cc67ba2-33bd-45ae-a3cd-3783abe6100f"
    },
    {
      "cell_type": "markdown",
      "source": "## Data Science Libraries\n\n- Pandas\n- Scikit-Learn\n- Numpy\n- Matplotlib...",
      "metadata": {},
      "id": "803e958a-839d-4b31-bb85-6fb8458d244e"
    },
    {
      "cell_type": "markdown",
      "source": "## Data Science Tools\n\nIDEs    | Big Data | Business Intelligence\n---     |   ---    |        ---\nJupyter |  Spark   |      Power BI\nRStudio |  Hadoop  |        SAS\n",
      "metadata": {},
      "id": "e24f9f6d-4bc3-40c5-b7bb-83e45e52bb3e"
    },
    {
      "cell_type": "markdown",
      "source": "## Arithmetic Expression Examples\n\nBelow are some examples of basic arithmetic expressions",
      "metadata": {},
      "id": "f40d8a83-58ee-405d-908b-7915d510d9f3"
    },
    {
      "cell_type": "code",
      "source": "print(5+5)\nprint(5*5)",
      "metadata": {
        "trusted": true
      },
      "execution_count": 1,
      "outputs": [
        {
          "name": "stdout",
          "text": "10\n25\n",
          "output_type": "stream"
        }
      ],
      "id": "a3054e55-db15-4e19-95d6-5fafe90c7b7a"
    },
    {
      "cell_type": "code",
      "source": "def min2hr(mins):\n    return mins/60\n\nprint(min2hr(300))",
      "metadata": {
        "trusted": true
      },
      "execution_count": 2,
      "outputs": [
        {
          "name": "stdout",
          "text": "5.0\n",
          "output_type": "stream"
        }
      ],
      "id": "638aa6e1-a844-4773-8f65-84dd26c49aa9"
    },
    {
      "cell_type": "markdown",
      "source": "## Objectives\n\n1. Learn data science tools and techniques\n2. Complete hands-on data science projects\n3. Have fun",
      "metadata": {},
      "id": "7243812a-7e78-4b3c-b691-e6c76a4528db"
    },
    {
      "cell_type": "markdown",
      "source": "Hi, I'm Arav and I'm a computer science student taking this course to start my data science journey!",
      "metadata": {},
      "id": "c96f8edd-c893-48b6-8ed6-bab03e9dca24"
    }
  ]
}