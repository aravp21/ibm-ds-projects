{
  "cells": [
    {
      "attachments": {},
      "cell_type": "markdown",
      "id": "5d94970b-4e4b-47db-aad0-6247d052781a",
      "metadata": {},
      "source": [
        "# Introductory Jupyter Notebook"
      ]
    },
    {
      "attachments": {},
      "cell_type": "markdown",
      "id": "1025f056-0df5-4ae7-ab04-cbfc894e1e2d",
      "metadata": {},
      "source": [
        "This notebook serves as an introduction to Jupyter as a popular tool for data science work."
      ]
    },
    {
      "attachments": {},
      "cell_type": "markdown",
      "id": "3cc67ba2-33bd-45ae-a3cd-3783abe6100f",
      "metadata": {},
      "source": [
        "## Data Science Languages\n",
        "\n",
        "- Python\n",
        "- R\n",
        "- SQL\n",
        "- Julia..."
      ]
    },
    {
      "attachments": {},
      "cell_type": "markdown",
      "id": "803e958a-839d-4b31-bb85-6fb8458d244e",
      "metadata": {},
      "source": [
        "## Data Science Libraries\n",
        "\n",
        "- Pandas\n",
        "- Scikit-Learn\n",
        "- Numpy\n",
        "- Matplotlib..."
      ]
    },
    {
      "attachments": {},
      "cell_type": "markdown",
      "id": "e24f9f6d-4bc3-40c5-b7bb-83e45e52bb3e",
      "metadata": {},
      "source": [
        "## Data Science Tools\n",
        "\n",
        "IDEs    | Big Data | Business Intelligence\n",
        "---     |   ---    |        ---\n",
        "Jupyter |  Spark   |      Power BI\n",
        "RStudio |  Hadoop  |        SAS\n"
      ]
    },
    {
      "attachments": {},
      "cell_type": "markdown",
      "id": "f40d8a83-58ee-405d-908b-7915d510d9f3",
      "metadata": {},
      "source": [
        "## Arithmetic Expression Examples\n",
        "\n",
        "Below are some examples of basic arithmetic expressions"
      ]
    },
    {
      "cell_type": "code",
      "execution_count": 1,
      "id": "a3054e55-db15-4e19-95d6-5fafe90c7b7a",
      "metadata": {
        "trusted": true
      },
      "outputs": [
        {
          "name": "stdout",
          "output_type": "stream",
          "text": [
            "10\n",
            "25\n"
          ]
        }
      ],
      "source": [
        "print(5+5)\n",
        "print(5*5)"
      ]
    },
    {
      "cell_type": "code",
      "execution_count": 2,
      "id": "638aa6e1-a844-4773-8f65-84dd26c49aa9",
      "metadata": {
        "trusted": true
      },
      "outputs": [
        {
          "name": "stdout",
          "output_type": "stream",
          "text": [
            "5.0\n"
          ]
        }
      ],
      "source": [
        "def min2hr(mins):\n",
        "    return mins/60\n",
        "\n",
        "print(min2hr(300))"
      ]
    },
    {
      "attachments": {},
      "cell_type": "markdown",
      "id": "7243812a-7e78-4b3c-b691-e6c76a4528db",
      "metadata": {},
      "source": [
        "## Objectives\n",
        "\n",
        "1. Learn data science tools and techniques\n",
        "2. Complete hands-on data science projects\n",
        "3. Have fun"
      ]
    },
    {
      "attachments": {},
      "cell_type": "markdown",
      "id": "c96f8edd-c893-48b6-8ed6-bab03e9dca24",
      "metadata": {},
      "source": [
        "Hi, I'm Arav and I'm a computer science student taking this course to start my data science journey!"
      ]
    }
  ],
  "metadata": {
    "kernelspec": {
      "display_name": "Pyolite",
      "language": "python",
      "name": "python"
    },
    "language_info": {
      "codemirror_mode": {
        "name": "python",
        "version": 3
      },
      "file_extension": ".py",
      "mimetype": "text/x-python",
      "name": "python",
      "nbconvert_exporter": "python",
      "pygments_lexer": "ipython3",
      "version": "3.8"
    }
  },
  "nbformat": 4,
  "nbformat_minor": 5
}
